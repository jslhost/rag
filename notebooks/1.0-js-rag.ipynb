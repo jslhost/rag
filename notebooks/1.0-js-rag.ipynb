{
 "cells": [
  {
   "cell_type": "code",
   "execution_count": 1,
   "metadata": {},
   "outputs": [],
   "source": [
    "from langchain_community.document_loaders import HuggingFaceDatasetLoader # permet de télécharger un dataset HuggingFace\n",
    "from langchain_community.embeddings import HuggingFaceEmbeddings # on récupère un embedding adapté aux données HuggingFace\n",
    "from langchain.indexes.vectorstore import VectorstoreIndexCreator # permet à Langchain de transformer les données en vecteurs"
   ]
  },
  {
   "cell_type": "code",
   "execution_count": 2,
   "metadata": {},
   "outputs": [],
   "source": [
    "dataset_name = \"tweet_eval\"\n",
    "page_content_column = \"text\"\n",
    "name = \"stance_climate\"\n",
    "\n",
    "loader = HuggingFaceDatasetLoader(dataset_name, page_content_column, name)"
   ]
  },
  {
   "cell_type": "code",
   "execution_count": 4,
   "metadata": {},
   "outputs": [
    {
     "name": "stderr",
     "output_type": "stream",
     "text": [
      "c:\\Users\\jeans\\Desktop\\rag_databird\\rag_env\\lib\\site-packages\\langchain\\indexes\\vectorstore.py:129: UserWarning: Using InMemoryVectorStore as the default vectorstore.This memory store won't persist data. You should explicitlyspecify a vectorstore when using VectorstoreIndexCreator\n",
      "  warnings.warn(\n",
      "c:\\Users\\jeans\\Desktop\\rag_databird\\rag_env\\lib\\site-packages\\datasets\\load.py:2554: FutureWarning: 'use_auth_token' was deprecated in favor of 'token' in version 2.14.0 and will be removed in 3.0.0.\n",
      "You can remove this warning by passing 'token=<use_auth_token>' instead.\n",
      "  warnings.warn(\n",
      "Downloading readme: 100%|██████████| 23.9k/23.9k [00:00<00:00, 12.0MB/s]\n",
      "Downloading data: 100%|██████████| 28.1k/28.1k [00:00<00:00, 114kB/s]\n",
      "Downloading data: 100%|██████████| 14.9k/14.9k [00:00<00:00, 49.9kB/s]\n",
      "Downloading data: 100%|██████████| 5.47k/5.47k [00:00<00:00, 18.7kB/s]\n",
      "Generating train split: 100%|██████████| 355/355 [00:00<00:00, 3577.24 examples/s]\n",
      "Generating test split: 100%|██████████| 169/169 [00:00<00:00, 33606.93 examples/s]\n",
      "Generating validation split: 100%|██████████| 40/40 [00:00<00:00, 6129.11 examples/s]\n"
     ]
    }
   ],
   "source": [
    "embeddings = HuggingFaceEmbeddings()\n",
    "\n",
    "index = VectorstoreIndexCreator(embedding=embeddings).from_loaders([loader])"
   ]
  },
  {
   "cell_type": "code",
   "execution_count": 5,
   "metadata": {},
   "outputs": [
    {
     "name": "stdout",
     "output_type": "stream",
     "text": [
      "<class 'langchain.indexes.vectorstore.VectorStoreIndexWrapper'>\n"
     ]
    }
   ],
   "source": [
    "print(type(index))"
   ]
  },
  {
   "cell_type": "code",
   "execution_count": null,
   "metadata": {},
   "outputs": [],
   "source": []
  }
 ],
 "metadata": {
  "kernelspec": {
   "display_name": "rag_env",
   "language": "python",
   "name": "python3"
  },
  "language_info": {
   "codemirror_mode": {
    "name": "ipython",
    "version": 3
   },
   "file_extension": ".py",
   "mimetype": "text/x-python",
   "name": "python",
   "nbconvert_exporter": "python",
   "pygments_lexer": "ipython3",
   "version": "3.8.8"
  }
 },
 "nbformat": 4,
 "nbformat_minor": 2
}
